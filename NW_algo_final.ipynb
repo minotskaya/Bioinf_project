{
 "cells": [
  {
   "cell_type": "code",
   "execution_count": 1,
   "metadata": {},
   "outputs": [],
   "source": [
    "import numpy as np\n",
    "import pandas as pd"
   ]
  },
  {
   "cell_type": "markdown",
   "metadata": {},
   "source": [
    "Реализуем функцию, которая вытаскивает последовательности из fasta файлов"
   ]
  },
  {
   "cell_type": "code",
   "execution_count": 2,
   "metadata": {},
   "outputs": [],
   "source": [
    "def seq_from_fasta(file_list):\n",
    "  \n",
    "    seqs = {}\n",
    "\n",
    "    for file in file_list:\n",
    "        row_lines = []\n",
    "        with open(file) as f:\n",
    "            for line in f:\n",
    "                if line[0] == '>':\n",
    "                    header = line[1:-1]\n",
    "                else:\n",
    "                    row_lines.append(line[:-1])\n",
    "        seq = ''.join(row_lines)\n",
    "        seqs[header] = seq\n",
    "    return seqs"
   ]
  },
  {
   "cell_type": "code",
   "execution_count": 3,
   "metadata": {},
   "outputs": [],
   "source": [
    "dnas = seq_from_fasta(['A0A001.fa', 'A0A0C4Y377.fa'])\n",
    "seq_1 = list(dnas.values())[0]\n",
    "seq_2 = list(dnas.values())[1]\n",
    "#seq_1 = 'ACAGTAG'\n",
    "#seq_2 = 'ACTCG'"
   ]
  },
  {
   "cell_type": "markdown",
   "metadata": {},
   "source": [
    "Объявим будущую матрицу скоров"
   ]
  },
  {
   "cell_type": "code",
   "execution_count": 4,
   "metadata": {},
   "outputs": [
    {
     "data": {
      "text/plain": [
       "array([[0., 0., 0., ..., 0., 0., 0.],\n",
       "       [0., 0., 0., ..., 0., 0., 0.],\n",
       "       [0., 0., 0., ..., 0., 0., 0.],\n",
       "       ...,\n",
       "       [0., 0., 0., ..., 0., 0., 0.],\n",
       "       [0., 0., 0., ..., 0., 0., 0.],\n",
       "       [0., 0., 0., ..., 0., 0., 0.]])"
      ]
     },
     "execution_count": 4,
     "metadata": {},
     "output_type": "execute_result"
    }
   ],
   "source": [
    "matrix = np.zeros((len(seq_1)+1, len(seq_2)+1))\n",
    "matrix"
   ]
  },
  {
   "cell_type": "markdown",
   "metadata": {},
   "source": [
    "и similarity matrix(матрица весов)"
   ]
  },
  {
   "cell_type": "code",
   "execution_count": 5,
   "metadata": {},
   "outputs": [
    {
     "data": {
      "text/plain": [
       "array([[1., 1., 1., ..., 1., 1., 1.],\n",
       "       [1., 1., 1., ..., 1., 1., 1.],\n",
       "       [1., 0., 1., ..., 1., 1., 1.],\n",
       "       ...,\n",
       "       [1., 1., 1., ..., 0., 0., 1.],\n",
       "       [1., 1., 1., ..., 0., 0., 1.],\n",
       "       [1., 1., 1., ..., 1., 1., 1.]])"
      ]
     },
     "execution_count": 5,
     "metadata": {},
     "output_type": "execute_result"
    }
   ],
   "source": [
    "sim_matrix = np.zeros((len(seq_1), len(seq_2)))\n",
    "\n",
    "for i in range(len(seq_1)):\n",
    "    for j in range(len(seq_2)):\n",
    "        if seq_1[i] == seq_2[j]: # Если i-ая буква в одной последовательности равна j-ой в другой,\n",
    "            sim_matrix[i][j] = 0   # тогда ij-ый элемент similarity matrix равен нулю\n",
    "        else:\n",
    "            sim_matrix[i][j] = 1   # В противном случае -- равен единице\n",
    "\n",
    "sim_matrix"
   ]
  },
  {
   "cell_type": "markdown",
   "metadata": {},
   "source": [
    "Введём систему скоров"
   ]
  },
  {
   "cell_type": "code",
   "execution_count": 6,
   "metadata": {},
   "outputs": [],
   "source": [
    "match = 0     # match не меняет Hamming distance \n",
    "mismatch = 1  # mismatch увеличивает на единицу\n",
    "gap = 1       # gap тоже увеличивает на единицу"
   ]
  },
  {
   "cell_type": "markdown",
   "metadata": {},
   "source": [
    "Реализуем функцию, которая считает матрицу скоров"
   ]
  },
  {
   "cell_type": "code",
   "execution_count": 7,
   "metadata": {},
   "outputs": [],
   "source": [
    "def score_matrix(matrix):\n",
    "    '''\n",
    "    Считает матрицу скоров всевозможных выравниваний. Так как используем Hamming distance,\n",
    "    лучшим будет выравнивание с НАИМЕНЬШИМ скором (находится в правом нижнем углу матрицы).\n",
    "    '''\n",
    "\n",
    "    for j in range(len(seq_2)+1):\n",
    "        matrix[0][j] = j*gap\n",
    "    for i in range(len(seq_1)+1):\n",
    "        matrix[i][0] = i*gap\n",
    "    for i in range(1, len(seq_1)+1):\n",
    "        for j in range(1, len(seq_2)+1):\n",
    "            matrix[i][j] = min(matrix[i-1][j-1] + sim_matrix[i-1][j-1], matrix[i][j-1] + gap, matrix[i-1][j] + gap)\n",
    "    return matrix"
   ]
  },
  {
   "cell_type": "code",
   "execution_count": 8,
   "metadata": {},
   "outputs": [
    {
     "data": {
      "text/plain": [
       "array([[  0.,   1.,   2., ..., 293., 294., 295.],\n",
       "       [  1.,   1.,   2., ..., 292., 293., 294.],\n",
       "       [  2.,   2.,   2., ..., 291., 292., 293.],\n",
       "       ...,\n",
       "       [588., 587., 586., ..., 328., 329., 330.],\n",
       "       [589., 588., 587., ..., 328., 328., 329.],\n",
       "       [590., 589., 588., ..., 329., 329., 329.]])"
      ]
     },
     "execution_count": 8,
     "metadata": {},
     "output_type": "execute_result"
    }
   ],
   "source": [
    "F = score_matrix(matrix)\n",
    "F"
   ]
  },
  {
   "cell_type": "markdown",
   "metadata": {},
   "source": [
    "Собственно само выравнивание"
   ]
  },
  {
   "cell_type": "code",
   "execution_count": 9,
   "metadata": {},
   "outputs": [],
   "source": [
    "def align_it(seq_1, seq_2, F, sim_matrix):  \n",
    "    alignment_1 = ''\n",
    "    alignment_2 = ''\n",
    "    i = len(seq_1)\n",
    "    j = len(seq_2)\n",
    "\n",
    "    while i > 0 or j > 0:\n",
    "\n",
    "        if i > 0 and j > 0 and F[i][j] == F[i-1][j-1] + sim_matrix[i-1][j-1]: \n",
    "\n",
    "            alignment_1 = seq_1[i-1] + alignment_1   # Если данный скор был получен от элемента по диагонали слева,\n",
    "            alignment_2 = seq_2[j-1] + alignment_2   # тогда соответствующие буквы остаются в обеих строках выравнивания -- match/mismatch\n",
    "            i -= 1\n",
    "            j -= 1\n",
    "\n",
    "        elif i > 0 and F[i][j] == F[i-1][j] + gap: # Если данный скор получен от элемента сверху,\n",
    "                                                # тогда в первой строке выравнивания остаётся буква соответствующей строки матрицы, \n",
    "            alignment_1 = seq_1[i-1] + alignment_1   # а буква соответствующего столбца \"удаляется\" из второй строки выравнивания\n",
    "            alignment_2 = '-' + alignment_2\n",
    "            i -= 1\n",
    "\n",
    "        else:\n",
    "                                              # Если данный скор получен от элемента слева,\n",
    "            alignment_1 = '-' + alignment_1         # тогда в первой строке вырвнивания \"удаляется\" буква соотвествующей строки матрицы,\n",
    "            alignment_2 = seq_2[j-1] + alignment_2  # а во второй строке выравнивания буква соответствующего столбца матрицы остаётся\n",
    "            j -= 1\n",
    "            \n",
    "    final_file = open('output.txt', 'w') # Запишем результат в файл\n",
    "    final_file.writelines([alignment_1 + '\\n', alignment_2])\n",
    "    final_file.close()\n",
    "    return 'The output.txt is created'"
   ]
  },
  {
   "cell_type": "code",
   "execution_count": 10,
   "metadata": {},
   "outputs": [
    {
     "data": {
      "text/plain": [
       "'The output.txt is created'"
      ]
     },
     "execution_count": 10,
     "metadata": {},
     "output_type": "execute_result"
    }
   ],
   "source": [
    "align_it(seq_1, seq_2, F, sim_matrix)"
   ]
  },
  {
   "cell_type": "code",
   "execution_count": 11,
   "metadata": {},
   "outputs": [],
   "source": [
    "with open('A0A001.fa') as f:\n",
    "    A = [line.strip() for line in f]\n",
    "str1 = ''.join(A[1:])"
   ]
  },
  {
   "cell_type": "code",
   "execution_count": 12,
   "metadata": {},
   "outputs": [],
   "source": [
    "with open('A0A0C4Y377.fa') as f:\n",
    "    A = [line.strip() for line in f]\n",
    "str2 = ''.join(A[1:])"
   ]
  },
  {
   "cell_type": "code",
   "execution_count": 21,
   "metadata": {},
   "outputs": [],
   "source": [
    "#считываем  данные о матрице весов\n",
    "blosum = pd.read_excel('BLOSUM50.xlsx', index_col=0)\n",
    "d=-5\n",
    "n = len(str1)\n",
    "m = len(str2)\n",
    "F = np.zeros((n+1,m+1))"
   ]
  },
  {
   "cell_type": "code",
   "execution_count": 22,
   "metadata": {},
   "outputs": [],
   "source": [
    "for i in range(n+1):\n",
    "    F[i][0] = i*d\n",
    "for j in range(m+1):\n",
    "    F[0][j] = j*d"
   ]
  },
  {
   "cell_type": "code",
   "execution_count": 23,
   "metadata": {},
   "outputs": [],
   "source": [
    "for i in range(1, n+1):\n",
    "    for j in range(1, m+1):\n",
    "        F[i][j] = max(F[i-1][j-1]+blosum[str1[i-1]][str2[j-1]], F[i][j-1]+d, F[i-1][j]+d)"
   ]
  },
  {
   "cell_type": "code",
   "execution_count": 26,
   "metadata": {},
   "outputs": [],
   "source": [
    "i = n\n",
    "j = m\n",
    "A1 = []\n",
    "B1 = []\n",
    "while (i!=0)|(j!=0):\n",
    "    if F[i][j] == F[i-1][j-1]+blosum[str1[i-1]][str2[j-1]]:\n",
    "        A1.append(str1[i-1])\n",
    "        B1.append(str2[j-1])\n",
    "        i-=1\n",
    "        j-=1\n",
    "    elif F[i][j] == F[i][j-1]+d:\n",
    "        A1.append('-')\n",
    "        B1.append(str2[j-1])\n",
    "        j-=1\n",
    "    elif  F[i][j] == F[i-1][j]+d:\n",
    "        A1.append(str1[i-1])\n",
    "        B1.append('-')\n",
    "        i-=1\n",
    "    "
   ]
  },
  {
   "cell_type": "code",
   "execution_count": 28,
   "metadata": {},
   "outputs": [],
   "source": [
    "str1 = ''.join(A1)\n",
    "str2 = ''.join(B1)\n",
    "with open('ou.txt', 'w') as f:\n",
    "    f.write(str1 + '\\n')\n",
    "    f.write(str2)"
   ]
  },
  {
   "cell_type": "code",
   "execution_count": null,
   "metadata": {},
   "outputs": [],
   "source": []
  },
  {
   "cell_type": "code",
   "execution_count": null,
   "metadata": {},
   "outputs": [],
   "source": []
  }
 ],
 "metadata": {
  "kernelspec": {
   "display_name": "Python 3",
   "language": "python",
   "name": "python3"
  },
  "language_info": {
   "codemirror_mode": {
    "name": "ipython",
    "version": 3
   },
   "file_extension": ".py",
   "mimetype": "text/x-python",
   "name": "python",
   "nbconvert_exporter": "python",
   "pygments_lexer": "ipython3",
   "version": "3.7.1"
  }
 },
 "nbformat": 4,
 "nbformat_minor": 2
}
